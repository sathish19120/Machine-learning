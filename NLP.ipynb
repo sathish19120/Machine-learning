{
  "nbformat": 4,
  "nbformat_minor": 0,
  "metadata": {
    "colab": {
      "name": "NLP.ipynb",
      "provenance": [],
      "authorship_tag": "ABX9TyOziTNeZXngm8QaNtq85USH",
      "include_colab_link": true
    },
    "kernelspec": {
      "name": "python3",
      "display_name": "Python 3"
    }
  },
  "cells": [
    {
      "cell_type": "markdown",
      "metadata": {
        "id": "view-in-github",
        "colab_type": "text"
      },
      "source": [
        "<a href=\"https://colab.research.google.com/github/sathish19120/Machine-learning/blob/main/NLP.ipynb\" target=\"_parent\"><img src=\"https://colab.research.google.com/assets/colab-badge.svg\" alt=\"Open In Colab\"/></a>"
      ]
    },
    {
      "cell_type": "code",
      "metadata": {
        "id": "DgaFkHz99XsN"
      },
      "source": [
        "import spacy\n",
        "nlp = spacy.load('en')"
      ],
      "execution_count": null,
      "outputs": []
    },
    {
      "cell_type": "code",
      "metadata": {
        "id": "p8pgP5ZP9qGP",
        "outputId": "76f68706-fdbe-4121-c563-f7cc7714de6d",
        "colab": {
          "base_uri": "https://localhost:8080/",
          "height": 35
        }
      },
      "source": [
        "docx = nlp(\"Spacy is amazing wonder full tool\")\n",
        "docx"
      ],
      "execution_count": null,
      "outputs": [
        {
          "output_type": "execute_result",
          "data": {
            "text/plain": [
              "Spacy is amazing wonder full tool"
            ]
          },
          "metadata": {
            "tags": []
          },
          "execution_count": 4
        }
      ]
    },
    {
      "cell_type": "code",
      "metadata": {
        "id": "WPIrhOjN90g5",
        "outputId": "0ce9a332-f6bf-4412-9449-7999354cd748",
        "colab": {
          "base_uri": "https://localhost:8080/",
          "height": 35
        }
      },
      "source": [
        "doc = nlp(\"Welcome to sathish ,your machine learning is ready for you\")\n",
        "doc"
      ],
      "execution_count": 16,
      "outputs": [
        {
          "output_type": "execute_result",
          "data": {
            "text/plain": [
              "Welcome to sathish ,your machine learning is ready for you"
            ]
          },
          "metadata": {
            "tags": []
          },
          "execution_count": 16
        }
      ]
    },
    {
      "cell_type": "code",
      "metadata": {
        "id": "84-t_KAS-8FN",
        "outputId": "b609e8ab-e7a5-4888-ac81-cd842c118a51",
        "colab": {
          "base_uri": "https://localhost:8080/",
          "height": 129
        }
      },
      "source": [
        "myfile = open(\"/sid.txt\").read()\n",
        "doc_file = nlp(myfile)\n",
        "doc_file"
      ],
      "execution_count": null,
      "outputs": [
        {
          "output_type": "execute_result",
          "data": {
            "text/plain": [
              "Hello, every one , i wish this is machine learning internship and we have for nlp concepts\n",
              "\n",
              "and most of students in a row performing in equality through this.\n",
              "\n",
              "in views of machine learning engineer."
            ]
          },
          "metadata": {
            "tags": []
          },
          "execution_count": 8
        }
      ]
    },
    {
      "cell_type": "code",
      "metadata": {
        "id": "YV9LVko2_q5n",
        "outputId": "87ddc9ce-4119-41fa-938e-5bdbda1e1676",
        "colab": {
          "base_uri": "https://localhost:8080/",
          "height": 129
        }
      },
      "source": [
        "sathish = nlp(open(\"/sid.txt\").read())\n",
        "sathish"
      ],
      "execution_count": null,
      "outputs": [
        {
          "output_type": "execute_result",
          "data": {
            "text/plain": [
              "Hello, every one , i wish this is machine learning internship and we have for nlp concepts\n",
              "\n",
              "and most of students in a row performing in equality through this.\n",
              "\n",
              "in views of machine learning engineer."
            ]
          },
          "metadata": {
            "tags": []
          },
          "execution_count": 13
        }
      ]
    },
    {
      "cell_type": "code",
      "metadata": {
        "id": "uEgnfrAFBAot",
        "outputId": "1a77b734-a304-4d85-c35c-c4efeadfe941",
        "colab": {
          "base_uri": "https://localhost:8080/",
          "height": 146
        }
      },
      "source": [
        "for num,sentence in enumerate(sathish.sents):\n",
        "  print(f'{num}: {sentence}')"
      ],
      "execution_count": null,
      "outputs": [
        {
          "output_type": "stream",
          "text": [
            "0: Hello, every one , i wish this is machine learning internship\n",
            "1: and we have for nlp concepts\n",
            "\n",
            "and most of students in a row performing in equality through this.\n",
            "\n",
            "\n",
            "2: in views of machine learning engineer.\n"
          ],
          "name": "stdout"
        }
      ]
    },
    {
      "cell_type": "code",
      "metadata": {
        "id": "K3y-rYf3Fp4J",
        "outputId": "ea73627f-e4fe-4a23-d42c-fdb08d49cf32",
        "colab": {
          "base_uri": "https://localhost:8080/",
          "height": 35
        }
      },
      "source": [
        "doc"
      ],
      "execution_count": 17,
      "outputs": [
        {
          "output_type": "execute_result",
          "data": {
            "text/plain": [
              "Welcome to sathish ,your machine learning is ready for you"
            ]
          },
          "metadata": {
            "tags": []
          },
          "execution_count": 17
        }
      ]
    },
    {
      "cell_type": "code",
      "metadata": {
        "id": "_b51Ba_0Ha7X",
        "outputId": "219ed0b2-0728-4909-a39b-d7023d3ab458",
        "colab": {
          "base_uri": "https://localhost:8080/",
          "height": 219
        }
      },
      "source": [
        "for token in doc:\n",
        "  print(token.text)"
      ],
      "execution_count": 18,
      "outputs": [
        {
          "output_type": "stream",
          "text": [
            "Welcome\n",
            "to\n",
            "sathish\n",
            ",\n",
            "your\n",
            "machine\n",
            "learning\n",
            "is\n",
            "ready\n",
            "for\n",
            "you\n"
          ],
          "name": "stdout"
        }
      ]
    },
    {
      "cell_type": "code",
      "metadata": {
        "id": "S78vJXCDHny-",
        "outputId": "93f24705-fbda-41f3-d667-74ec3e046bca",
        "colab": {
          "base_uri": "https://localhost:8080/",
          "height": 219
        }
      },
      "source": [
        "[token.text for token in doc]"
      ],
      "execution_count": 19,
      "outputs": [
        {
          "output_type": "execute_result",
          "data": {
            "text/plain": [
              "['Welcome',\n",
              " 'to',\n",
              " 'sathish',\n",
              " ',',\n",
              " 'your',\n",
              " 'machine',\n",
              " 'learning',\n",
              " 'is',\n",
              " 'ready',\n",
              " 'for',\n",
              " 'you']"
            ]
          },
          "metadata": {
            "tags": []
          },
          "execution_count": 19
        }
      ]
    },
    {
      "cell_type": "code",
      "metadata": {
        "id": "2By-MpI8Hy3X",
        "outputId": "cecbdee9-8797-4d83-de41-ed2c92ab30be",
        "colab": {
          "base_uri": "https://localhost:8080/",
          "height": 201
        }
      },
      "source": [
        "doc.text.split(\" \")"
      ],
      "execution_count": 22,
      "outputs": [
        {
          "output_type": "execute_result",
          "data": {
            "text/plain": [
              "['Welcome',\n",
              " 'to',\n",
              " 'sathish',\n",
              " ',your',\n",
              " 'machine',\n",
              " 'learning',\n",
              " 'is',\n",
              " 'ready',\n",
              " 'for',\n",
              " 'you']"
            ]
          },
          "metadata": {
            "tags": []
          },
          "execution_count": 22
        }
      ]
    },
    {
      "cell_type": "code",
      "metadata": {
        "id": "zO2Qm81DIEu3",
        "outputId": "f6c2e58d-8c49-400d-c719-6620faaf83f9",
        "colab": {
          "base_uri": "https://localhost:8080/",
          "height": 219
        }
      },
      "source": [
        "for word in doc:\n",
        "  print(word.text,word.shape_)"
      ],
      "execution_count": 24,
      "outputs": [
        {
          "output_type": "stream",
          "text": [
            "Welcome Xxxxx\n",
            "to xx\n",
            "sathish xxxx\n",
            ", ,\n",
            "your xxxx\n",
            "machine xxxx\n",
            "learning xxxx\n",
            "is xx\n",
            "ready xxxx\n",
            "for xxx\n",
            "you xxx\n"
          ],
          "name": "stdout"
        }
      ]
    },
    {
      "cell_type": "code",
      "metadata": {
        "id": "8gh9VkQsIYWG",
        "outputId": "1db51cc0-367d-4a23-f2d8-54429d932373",
        "colab": {
          "base_uri": "https://localhost:8080/",
          "height": 35
        }
      },
      "source": [
        "doc1 = nlp(\"heLLO hello HELLO HELLO\")\n",
        "doc1"
      ],
      "execution_count": 26,
      "outputs": [
        {
          "output_type": "execute_result",
          "data": {
            "text/plain": [
              "heLLO hello HELLO HELLO"
            ]
          },
          "metadata": {
            "tags": []
          },
          "execution_count": 26
        }
      ]
    },
    {
      "cell_type": "code",
      "metadata": {
        "id": "V6WVzvSSIlXR",
        "outputId": "ca356a0a-527c-42b5-f874-94dd45056253",
        "colab": {
          "base_uri": "https://localhost:8080/",
          "height": 90
        }
      },
      "source": [
        "for word in doc1:\n",
        "  print(\"Token =>\", word.text, \"Shape \",word.shape_,word.is_alpha,word.is_stop)"
      ],
      "execution_count": 28,
      "outputs": [
        {
          "output_type": "stream",
          "text": [
            "Token => heLLO Shape  xxXXX True False\n",
            "Token => hello Shape  xxxx True False\n",
            "Token => HELLO Shape  XXXX True False\n",
            "Token => HELLO Shape  XXXX True False\n"
          ],
          "name": "stdout"
        }
      ]
    }
  ]
}